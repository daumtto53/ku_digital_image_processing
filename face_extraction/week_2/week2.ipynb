{
 "cells": [
  {
   "cell_type": "code",
   "execution_count": 3,
   "id": "a355c752",
   "metadata": {},
   "outputs": [],
   "source": [
    "import cv2\n",
    "import numpy as np\n",
    "from math import acos, pi, sqrt"
   ]
  },
  {
   "cell_type": "code",
   "execution_count": 2,
   "id": "c4b3c40f",
   "metadata": {},
   "outputs": [
    {
     "ename": "NameError",
     "evalue": "name 'cv2' is not defined",
     "output_type": "error",
     "traceback": [
      "\u001b[1;31m---------------------------------------------------------------------------\u001b[0m",
      "\u001b[1;31mNameError\u001b[0m                                 Traceback (most recent call last)",
      "\u001b[1;32m~\\AppData\\Local\\Temp/ipykernel_12576/1782303837.py\u001b[0m in \u001b[0;36m<module>\u001b[1;34m\u001b[0m\n\u001b[1;32m----> 1\u001b[1;33m \u001b[0msrc\u001b[0m \u001b[1;33m=\u001b[0m \u001b[0mcv2\u001b[0m\u001b[1;33m.\u001b[0m\u001b[0mimread\u001b[0m\u001b[1;33m(\u001b[0m\u001b[1;34m\"경로\"\u001b[0m\u001b[1;33m,\u001b[0m \u001b[0mFLAG\u001b[0m\u001b[1;33m)\u001b[0m\u001b[1;33m\u001b[0m\u001b[1;33m\u001b[0m\u001b[0m\n\u001b[0m\u001b[0;32m      2\u001b[0m \u001b[0mheight\u001b[0m\u001b[1;33m,\u001b[0m \u001b[0mwidth\u001b[0m \u001b[1;33m=\u001b[0m \u001b[0msrc\u001b[0m\u001b[1;33m.\u001b[0m\u001b[0mshape\u001b[0m\u001b[1;33m[\u001b[0m\u001b[1;36m0\u001b[0m\u001b[1;33m]\u001b[0m\u001b[1;33m,\u001b[0m \u001b[0msrc\u001b[0m\u001b[1;33m.\u001b[0m\u001b[0mshape\u001b[0m\u001b[1;33m[\u001b[0m\u001b[1;36m1\u001b[0m\u001b[1;33m]\u001b[0m\u001b[1;33m\u001b[0m\u001b[1;33m\u001b[0m\u001b[0m\n\u001b[0;32m      3\u001b[0m \u001b[1;33m\u001b[0m\u001b[0m\n\u001b[0;32m      4\u001b[0m \u001b[1;33m\u001b[0m\u001b[0m\n\u001b[0;32m      5\u001b[0m \u001b[0mI\u001b[0m \u001b[1;33m=\u001b[0m \u001b[0mnp\u001b[0m\u001b[1;33m.\u001b[0m\u001b[0mzeros\u001b[0m\u001b[1;33m(\u001b[0m\u001b[1;33m(\u001b[0m\u001b[0mheight\u001b[0m\u001b[1;33m,\u001b[0m \u001b[0mwidth\u001b[0m\u001b[1;33m)\u001b[0m\u001b[1;33m)\u001b[0m\u001b[1;33m\u001b[0m\u001b[1;33m\u001b[0m\u001b[0m\n",
      "\u001b[1;31mNameError\u001b[0m: name 'cv2' is not defined"
     ]
    }
   ],
   "source": [
    "src = cv2.imread(\"경로\", FLAG)\n",
    "height, width = src.shape[0], src.shape[1]\n",
    "\n",
    "\n",
    "I = np.zeros((height, width))\n",
    "S = np.zeros((height, width))\n",
    "H = np.zeros((height, width))\n",
    "\n",
    "\n",
    "for i in range(height):\n",
    "    for j in range(width):\n",
    "        B, G, R = src[i][j][0] / 255., src[i][j][1] / 255., src[i][j][2] / 255.\n",
    "\n",
    "        I[i][j] = (B + G + R) / 3.\n",
    "        if B + G +R != 0 :\n",
    "            S[i][j] = 1 - 3 * np.min([R, G, B]/[R + G + B])\n",
    "        H[i][j]\n",
    "        \n",
    "dest = np.zeros((height, width, 3), dtype=np.uint8)\n",
    "\n",
    "for i in range(height) :\n",
    "    for j in range(width) : \n",
    "            if H[i][j] >= 0.25 and H[i][j] <= 0.6 :\n",
    "                dest[i][j] = src[i][j]\n",
    "                \n",
    "cv2.imshow('dst', dest)\n",
    "cv2.imshow('src', src)\n",
    "cv2.waitKey(0)\n",
    "cv2.destroyAllWindows()\n",
    "\n"
   ]
  },
  {
   "cell_type": "code",
   "execution_count": null,
   "id": "f31e01a0",
   "metadata": {},
   "outputs": [],
   "source": [
    "I = I*255\n",
    "S = S*255\n",
    "H = H*255/(2*pi)\n",
    "\n",
    "I = np.asarray(I, dtype=np.uint8)\n",
    "S = np.asarray(S, dtype=np.uint8)\n",
    "H = np.asarray(H, dtype=np.uint8)\n",
    "\n",
    "cv2.imshow('src', src)\n",
    "cv2.imshow('H', H)\n",
    "cv2.imshow('S', S)\n",
    "cv2.imshow('I', I)\n",
    "cv2.waitkey(0)\n",
    "cv2.destroyAllWindows()"
   ]
  }
 ],
 "metadata": {
  "kernelspec": {
   "display_name": "Python 3 (ipykernel)",
   "language": "python",
   "name": "python3"
  },
  "language_info": {
   "codemirror_mode": {
    "name": "ipython",
    "version": 3
   },
   "file_extension": ".py",
   "mimetype": "text/x-python",
   "name": "python",
   "nbconvert_exporter": "python",
   "pygments_lexer": "ipython3",
   "version": "3.9.7"
  }
 },
 "nbformat": 4,
 "nbformat_minor": 5
}
